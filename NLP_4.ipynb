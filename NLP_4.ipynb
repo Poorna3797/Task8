{
  "cells": [
    {
      "cell_type": "markdown",
      "metadata": {
        "id": "view-in-github",
        "colab_type": "text"
      },
      "source": [
        "<a href=\"https://colab.research.google.com/github/Poorna3797/Task8/blob/main/NLP_4.ipynb\" target=\"_parent\"><img src=\"https://colab.research.google.com/assets/colab-badge.svg\" alt=\"Open In Colab\"/></a>"
      ]
    },
    {
      "cell_type": "markdown",
      "metadata": {
        "id": "SYBRtQj6uXQo"
      },
      "source": [
        "#**Natural Language Processing Task**\n",
        "##**Task-1**\n",
        "\n",
        "You need to translate each word or sentence from English to Spanish, French and German \n",
        "\n",
        "Data Set : https://drive.google.com/file/d/1YMHJjblc8dDzUN1ry8BOCnAR4_TyKmXM/view?usp=sharing\n",
        " \n",
        "\n",
        "##**Task-2**\n",
        "\n",
        "Create a program that needs to automatically correct that spelling from the word or a given sentence. (Language : English) \n",
        "Note:  show 100 data point outputs both in words and sentence. \n",
        "\n",
        "\n",
        "\n",
        "##**Task-3**\n",
        "\n",
        "Create an application that should be used by the HR Team to filter the resume based on the Skills.\n",
        "\n",
        "\n",
        "##**Task-4**\n",
        "Create a chatbot for Hotel Management to Book Rooms \n",
        "\n",
        "###**Details collected from :** \n",
        "Customer Name, Mobile Number, Address, ID proof, and Room Type and date of arrival and departure date. Keep some eligibility to Book the Room .\n",
        "All through voice to text classifications"
      ]
    },
    {
      "cell_type": "markdown",
      "metadata": {
        "id": "E67oeaPjhf65"
      },
      "source": [
        "###**INSTALLATION OF PACKAGES**"
      ]
    },
    {
      "cell_type": "markdown",
      "metadata": {
        "id": "ET7_WU9hhc5m"
      },
      "source": [
        "NLTK stands for Natural language toolkit used to deal with NLP applications and chatbot is one among them. Now we will advance our Rule-based chatbots using the NLTK library. Please install the NLTK library first before working using the pip command."
      ]
    },
    {
      "cell_type": "code",
      "execution_count": 1,
      "metadata": {
        "colab": {
          "base_uri": "https://localhost:8080/"
        },
        "id": "pmJbDdT2Xyxu",
        "outputId": "9dc1d3d9-7a5f-471a-c0ba-73f6a2e6aea8"
      },
      "outputs": [
        {
          "output_type": "stream",
          "name": "stdout",
          "text": [
            "Looking in indexes: https://pypi.org/simple, https://us-python.pkg.dev/colab-wheels/public/simple/\n",
            "Requirement already satisfied: nltk in /usr/local/lib/python3.8/dist-packages (3.7)\n",
            "Requirement already satisfied: joblib in /usr/local/lib/python3.8/dist-packages (from nltk) (1.2.0)\n",
            "Requirement already satisfied: tqdm in /usr/local/lib/python3.8/dist-packages (from nltk) (4.64.1)\n",
            "Requirement already satisfied: regex>=2021.8.3 in /usr/local/lib/python3.8/dist-packages (from nltk) (2022.6.2)\n",
            "Requirement already satisfied: click in /usr/local/lib/python3.8/dist-packages (from nltk) (7.1.2)\n"
          ]
        }
      ],
      "source": [
        "!pip install nltk"
      ]
    },
    {
      "cell_type": "code",
      "execution_count": 2,
      "metadata": {
        "id": "uwmUgEtMXwSK"
      },
      "outputs": [],
      "source": [
        "import nltk\n",
        "from nltk.chat.util import Chat, reflections\n",
        "from termcolor import colored"
      ]
    },
    {
      "cell_type": "markdown",
      "metadata": {
        "id": "zTa6VLyqhu_o"
      },
      "source": [
        "**Chat** – Chat is a class that contains complete logic for processing the text data which the chatbot receives and find useful information out of it.\n",
        "\n",
        "**reflections** – Another import we have done is reflections which is a dictionary containing basic input and corresponding outputs. You can also create your own dictionary with more responses you want. if you print reflections it will be something like this."
      ]
    },
    {
      "cell_type": "code",
      "execution_count": 3,
      "metadata": {
        "id": "RLTJonSdXyMa"
      },
      "outputs": [],
      "source": [
        "reflections = {\n",
        "  \"i am\"       : \"you are\",\n",
        "  \"i was\"      : \"you were\",\n",
        "  \"i\"          : \"you\",\n",
        "  \"i'm\"        : \"you are\",\n",
        "  \"i'd\"        : \"you would\",\n",
        "  \"i've\"       : \"you have\",\n",
        "  \"i'll\"       : \"you will\",\n",
        "  \"my\"         : \"your\",\n",
        "  \"you are\"    : \"I am\",\n",
        "  \"you were\"   : \"I was\",\n",
        "  \"you've\"     : \"I have\",\n",
        "  \"you'll\"     : \"I will\",\n",
        "  \"your\"       : \"my\",\n",
        "  \"yours\"      : \"mine\",\n",
        "  \"you\"        : \"me\",\n",
        "  \"me\"         : \"you\"\n",
        "}"
      ]
    },
    {
      "cell_type": "markdown",
      "metadata": {
        "id": "uA_nGi-kiIRM"
      },
      "source": [
        "After importing the libraries, First, we have to create rules. The lines of code given below create a simple set of rules. the first line describes the user input which we have taken as raw string input and the next line is our chatbot response. You can modify these pairs as per the questions and answers you want."
      ]
    },
    {
      "cell_type": "code",
      "execution_count": 5,
      "metadata": {
        "id": "7UXbmetHYO2A"
      },
      "outputs": [],
      "source": [
        "pairs = [\n",
        "    [ \n",
        "        r\"my name is (.*)\",\n",
        "        ['''Hello %1, I can help you book a hotel room. Where are you travelling to?\n",
        "        '''+ colored('\\033[1m' + ''' Replay like...\n",
        "        1. I am going to ......\n",
        "        2. I like to go for.... ''' + '\\033[0m', 'red', attrs=['bold']),]\n",
        "    ],\n",
        "    \n",
        "    [ \n",
        "        r\"I am (.*)\",\n",
        "        ['''Hello %1, I can help you book a hotel room. Where are you travelling to?\n",
        "        '''+ colored('\\033[1m' + ''' Replay like...\n",
        "        I like to go for.... ''' + '\\033[0m', 'red', attrs=['bold']),]\n",
        "    ],\n",
        "    \n",
        "    [ \n",
        "        r\"I like to go for (.*)\",\n",
        "        [\"Cool. When would you be arriving into the %1?\" + colored('\\033[1m' + ''' Replay like...\n",
        "        1. I want to go on (DD/MM/YYYY)......''' + '\\033[0m', 'red', attrs=['bold']),]\n",
        "    ],\n",
        "\n",
        "    [\n",
        "        r\"I want to go on (.*)\",\n",
        "        [\"On %1 tickets avilable. How many guests are travelling along?\" + colored('\\033[1m' + ''' Replay like...\n",
        "        1. Total number of persons with me is (number)......''' + '\\033[0m', 'red', attrs=['bold']),] \n",
        "    ],  \n",
        "\n",
        "     [\n",
        "        r\"Total number of persons with me is (.*)\",\n",
        "        [\"Super. Any budget preference?\" + colored('\\033[1m' + ''' Replay like...\n",
        "        1. Less than or greater than Rs (amount)......''' + '\\033[0m', 'red', attrs=['bold']),] \n",
        "    ],\n",
        "\n",
        "     [\n",
        "        r\"Less|Greater than Rs (.*)\",\n",
        "        ['''Rooms avilable for your amount.\n",
        "        Please Give your Mobile Number, Address, ID proof, and \n",
        "        Room Type and date of arrival and departure date.''' + colored('\\033[1m' + ''' Replay like...\n",
        "        1. My details are (Mobile Number), (Address), (ID proof), and \n",
        "        (Room Type) and (date of arrival) and (departure date)......''' + '\\033[0m', 'red', attrs=['bold']),] \n",
        "    ],\n",
        "\n",
        "    [\n",
        "        r\"My details are (.*)\",\n",
        "        ['''OK. Your Seat Booked.\n",
        "        We will send the hotel details on your mobile number.\n",
        "        Complete your payment procedure. \n",
        "        Please show the ID card on the day of arrival at the hotel for verification.''' + colored('\\033[1m' + ''' Replay like...\n",
        "        1. Thank you/ Thank you......''' + '\\033[0m', 'red', attrs=['bold']),] \n",
        "    ],\n",
        "\n",
        "    [\n",
        "        r\"Thank you (.*)\",\n",
        "        [\"It was nice talking to you. See you soon\" + colored('\\033[1m' + '''Please contact for further reference.''' + '\\033[0m', 'red', attrs=['bold']),] \n",
        "    ], \n",
        " \n",
        "    [\n",
        "        r\"quit\",\n",
        "        [\"BBye take care. See you soon :) \",\"It was nice talking to you. See you soon :)\"]\n",
        "    ],\n",
        "]"
      ]
    },
    {
      "cell_type": "code",
      "execution_count": 6,
      "metadata": {
        "colab": {
          "base_uri": "https://localhost:8080/"
        },
        "id": "pfJsgPhVYmr0",
        "outputId": "aeb0e18b-6ede-4ec8-e81b-2dcb322ccb5a"
      },
      "outputs": [
        {
          "output_type": "stream",
          "name": "stdout",
          "text": [
            "Hi! thanks for contacting Poorna Hotel Management system.\n",
            "\u001b[1m Your name please...\n",
            "    Replay like\n",
            "    1) I am...\n",
            "    or 2) my name is...\u001b[0m\n",
            ">Poorna\n",
            "None\n",
            ">I am Poorna\n",
            "Hello poorna, I can help you book a hotel room. Where are you travelling to?\n",
            "        \u001b[1m Replay like...\n",
            "        I like to go for.... \u001b[0m\n",
            ">I like to go for Bangalore\n",
            "Cool. When would you be arriving into the bangalore?\u001b[1m Replay like...\n",
            "        1. I want to go on (DD/MM/YYYY)......\u001b[0m\n",
            ">28/02/2023\n",
            "None\n",
            ">I want to go on 28/02/2023\n",
            "On 28/02/2023 tickets avilable. How many guests are travelling along?\u001b[1m Replay like...\n",
            "        1. Total number of persons with me is (number)......\u001b[0m\n",
            ">1\n",
            "None\n",
            ">Total number of persons with me is 0\n",
            "Super. Any budget preference?\u001b[1m Replay like...\n",
            "        1. Less than or greater than Rs (amount)......\u001b[0m\n",
            ">Less than Rs 2000\n",
            "Rooms avilable for your amount.\n",
            "        Please Give your Mobile Number, Address, ID proof, and \n",
            "        Room Type and date of arrival and departure date.\u001b[1m Replay like...\n",
            "        1. My details are (Mobile Number), (Address), (ID proof), and \n",
            "        (Room Type) and (date of arrival) and (departure date)......\u001b[0m\n",
            ">My details are 8870617813, coimbatore, PAN, AC and February 28 and March 5\n",
            "OK. Your Seat Booked.\n",
            "        We will send the hotel details on your mobile number.\n",
            "        Complete your payment procedure. \n",
            "        Please show the ID card on the day of arrival at the hotel for verification.\u001b[1m Replay like...\n",
            "        1. Thank you/ Thank you......\u001b[0m\n",
            ">Thank you\n",
            "None\n",
            ">Thank you for your help\n",
            "It was nice talking to you. See you soon\u001b[1mPlease contact for further reference.\u001b[0m\n",
            ">quit\n",
            "BBye take care. See you soon :) \n"
          ]
        }
      ],
      "source": [
        "def chat():\n",
        "    print(\"Hi! thanks for contacting Poorna Hotel Management system.\")\n",
        "    print(colored('\\033[1m' + ''' Your name please...\n",
        "    Replay like\n",
        "    1) I am...\n",
        "    or 2) my name is...''' + '\\033[0m', 'red', attrs=['bold']))\n",
        "    chat = Chat(pairs, reflections)\n",
        "    chat.converse()\n",
        "#initiate the conversation\n",
        "if __name__ == \"__main__\":\n",
        "    chat()"
      ]
    }
  ],
  "metadata": {
    "colab": {
      "provenance": [],
      "include_colab_link": true
    },
    "kernelspec": {
      "display_name": "Python 3",
      "name": "python3"
    },
    "language_info": {
      "name": "python"
    }
  },
  "nbformat": 4,
  "nbformat_minor": 0
}